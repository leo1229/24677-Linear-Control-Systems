{
 "cells": [
  {
   "cell_type": "code",
   "execution_count": 1,
   "metadata": {},
   "outputs": [
    {
     "name": "stdout",
     "output_type": "stream",
     "text": [
      "F20 is: 6765\n"
     ]
    }
   ],
   "source": [
    "# This is the code I use for exercise 5.\n",
    "import numpy as np\n",
    "from scipy.signal import StateSpace, dlsim\n",
    "A = np.asarray([[0.,1.],\n",
    "                [1.,1.]])\n",
    "B = np.asarray([[0.],[0.]])\n",
    "C = np.asarray([0.,0.])\n",
    "D = np.asarray([0.])\n",
    "plane_sys = StateSpace(A, B, C, D, dt = 1)\n",
    "t = np.arange(0, 20, 1)\n",
    "input = np.zeros(len(t))\n",
    "_, y, x = dlsim(plane_sys, input, t, x0=[0, 1])\n",
    "F20 = int(x[19, 1])\n",
    "print(\"F20 is:\", F20)"
   ]
  },
  {
   "cell_type": "code",
   "execution_count": null,
   "metadata": {},
   "outputs": [],
   "source": []
  }
 ],
 "metadata": {
  "kernelspec": {
   "display_name": "Python 3",
   "language": "python",
   "name": "python3"
  },
  "language_info": {
   "codemirror_mode": {
    "name": "ipython",
    "version": 3
   },
   "file_extension": ".py",
   "mimetype": "text/x-python",
   "name": "python",
   "nbconvert_exporter": "python",
   "pygments_lexer": "ipython3",
   "version": "3.8.1"
  }
 },
 "nbformat": 4,
 "nbformat_minor": 4
}
